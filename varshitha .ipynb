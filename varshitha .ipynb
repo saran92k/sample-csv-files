{
 "cells": [
  {
   "cell_type": "code",
   "execution_count": 1,
   "id": "90f4525b",
   "metadata": {},
   "outputs": [
    {
     "name": "stdout",
     "output_type": "stream",
     "text": [
      "Array created using pandas list:\n",
      " [[1 2 4]\n",
      " [5 8 7]]\n"
     ]
    }
   ],
   "source": [
    "import numpy as np\n",
    "a=np.array([[1,2,4],[5,8,7]])\n",
    "print(\"Array created using pandas list:\\n\",a)"
   ]
  },
  {
   "cell_type": "code",
   "execution_count": 2,
   "id": "6939143a",
   "metadata": {},
   "outputs": [
    {
     "name": "stdout",
     "output_type": "stream",
     "text": [
      "\n",
      "An array initialized with all zeros:\n",
      " [[0. 0. 0. 0.]\n",
      " [0. 0. 0. 0.]\n",
      " [0. 0. 0. 0.]]\n"
     ]
    }
   ],
   "source": [
    "import numpy as np\n",
    "b=np.zeros((3,4))\n",
    "print(\"\\nAn array initialized with all zeros:\\n\",b)"
   ]
  },
  {
   "cell_type": "code",
   "execution_count": 3,
   "id": "9f89bf03",
   "metadata": {},
   "outputs": [
    {
     "name": "stdout",
     "output_type": "stream",
     "text": [
      "An array initialized with all 6s.\n",
      " [[6 6 6]\n",
      " [6 6 6]\n",
      " [6 6 6]]\n"
     ]
    }
   ],
   "source": [
    "import numpy as np\n",
    "c=np.full((3,3),6)\n",
    "print(\"An array initialized with all 6s.\\n\",c)"
   ]
  },
  {
   "cell_type": "code",
   "execution_count": 4,
   "id": "0d395bfa",
   "metadata": {},
   "outputs": [
    {
     "name": "stdout",
     "output_type": "stream",
     "text": [
      "\n",
      "A random array:\n",
      " [[0.75689229 0.67754769]\n",
      " [0.57765203 0.61227614]]\n"
     ]
    }
   ],
   "source": [
    "import numpy as np\n",
    "d=np.random.random((2,2))\n",
    "print(\"\\nA random array:\\n\",d)"
   ]
  },
  {
   "cell_type": "code",
   "execution_count": 6,
   "id": "65cfa3fa",
   "metadata": {},
   "outputs": [
    {
     "name": "stdout",
     "output_type": "stream",
     "text": [
      "\n",
      "A sequential array with steps of 5:\n",
      " [ 0  5 10 15 20 25]\n"
     ]
    }
   ],
   "source": [
    "import numpy as np\n",
    "e=np.arange(0,30,5)\n",
    "print(\"\\nA sequential array with steps of 5:\\n\",e)"
   ]
  },
  {
   "cell_type": "code",
   "execution_count": 7,
   "id": "1ae47592",
   "metadata": {},
   "outputs": [
    {
     "name": "stdout",
     "output_type": "stream",
     "text": [
      "\n",
      "Original array:\n",
      " [[1 2 3 4]\n",
      " [5 2 4 2]\n",
      " [1 2 0 1]]\n",
      "Reshaped array[4,3]:\n",
      " [[1 2 3]\n",
      " [4 5 2]\n",
      " [4 2 1]\n",
      " [2 0 1]]\n"
     ]
    }
   ],
   "source": [
    "import numpy as np\n",
    "arr=np.array([[1,2,3,4],[5,2,4,2],[1,2,0,1]])\n",
    "newarr=arr.reshape(4,3)\n",
    "print(\"\\nOriginal array:\\n\",arr)\n",
    "print(\"Reshaped array[4,3]:\\n\",newarr)"
   ]
  },
  {
   "cell_type": "code",
   "execution_count": 8,
   "id": "db135e6a",
   "metadata": {},
   "outputs": [
    {
     "name": "stdout",
     "output_type": "stream",
     "text": [
      "\n",
      "Original array:\n",
      " [[1 2 3 4]\n",
      " [5 2 4 2]\n",
      " [1 2 0 1]]\n",
      "Fattened array:\n",
      " [1 2 3 4 5 2 4 2 1 2 0 1]\n"
     ]
    }
   ],
   "source": [
    "import numpy as np\n",
    "flarr=arr.flatten()\n",
    "print(\"\\nOriginal array:\\n\",arr)\n",
    "print(\"Fattened array:\\n\",flarr)"
   ]
  },
  {
   "cell_type": "code",
   "execution_count": 9,
   "id": "87ba1270",
   "metadata": {
    "scrolled": true
   },
   "outputs": [
    {
     "name": "stdout",
     "output_type": "stream",
     "text": [
      "\n",
      "No.of dimensions: 2\n"
     ]
    }
   ],
   "source": [
    "import numpy as np\n",
    "print(\"\\nNo.of dimensions:\",arr.ndim)"
   ]
  },
  {
   "cell_type": "code",
   "execution_count": 10,
   "id": "2e4434f0",
   "metadata": {},
   "outputs": [
    {
     "name": "stdout",
     "output_type": "stream",
     "text": [
      "\n",
      "Shape of array: (3, 4)\n"
     ]
    }
   ],
   "source": [
    "import numpy as np\n",
    "print(\"\\nShape of array:\",arr.shape)"
   ]
  },
  {
   "cell_type": "code",
   "execution_count": 11,
   "id": "1c88d42f",
   "metadata": {},
   "outputs": [
    {
     "name": "stdout",
     "output_type": "stream",
     "text": [
      "\n",
      "Size of array: 12\n"
     ]
    }
   ],
   "source": [
    "import numpy as np\n",
    "print(\"\\nSize of array:\",arr.size)"
   ]
  },
  {
   "cell_type": "code",
   "execution_count": 12,
   "id": "45106c51",
   "metadata": {},
   "outputs": [
    {
     "name": "stdout",
     "output_type": "stream",
     "text": [
      "\n",
      "Array stores elements of type: int32\n"
     ]
    }
   ],
   "source": [
    "import numpy as np\n",
    "print(\"\\nArray stores elements of type:\",arr.dtype)"
   ]
  },
  {
   "cell_type": "code",
   "execution_count": 14,
   "id": "40b2e205",
   "metadata": {},
   "outputs": [
    {
     "name": "stdout",
     "output_type": "stream",
     "text": [
      "\n",
      "Converted array elements:\n",
      " [[1. 2. 3. 4.]\n",
      " [5. 2. 4. 2.]\n",
      " [1. 2. 0. 1.]]\n",
      "Converted array type: float32\n"
     ]
    }
   ],
   "source": [
    "import numpy as np\n",
    "newtype=arr.astype('f')\n",
    "print(\"\\nConverted array elements:\\n\",newtype)\n",
    "print(\"Converted array type:\",newtype.dtype)"
   ]
  },
  {
   "cell_type": "code",
   "execution_count": 15,
   "id": "eb2e534d",
   "metadata": {},
   "outputs": [
    {
     "name": "stdout",
     "output_type": "stream",
     "text": [
      "original array:\n",
      " [[-1.   2.   0.   4. ]\n",
      " [ 4.  -0.5  6.   0. ]\n",
      " [ 2.6  0.   7.   8. ]\n",
      " [ 3.  -7.   4.   2. ]]\n",
      "\n",
      "every other rows:arr[0:3:2]:\n",
      " [[-1.   2.   0.   4. ]\n",
      " [ 2.6  0.   7.   8. ]]\n"
     ]
    }
   ],
   "source": [
    "import numpy as np\n",
    "arr=np.array([[-1,2,0,4],[4,-0.5,6,0],[2.6,0,7,8],[3,-7,4,2.0]]) \n",
    "print(\"original array:\\n\",arr)\n",
    "print(\"\\nevery other rows:arr[0:3:2]:\\n\",arr[0:3:2])"
   ]
  },
  {
   "cell_type": "code",
   "execution_count": 16,
   "id": "2fd12f94",
   "metadata": {},
   "outputs": [
    {
     "name": "stdout",
     "output_type": "stream",
     "text": [
      "\n",
      "Array with first 2 rows and 3 columns:arr[:2,:3]:\n",
      " [[-1.   2.   0. ]\n",
      " [ 4.  -0.5  6. ]]\n"
     ]
    }
   ],
   "source": [
    "import numpy as np\n",
    "temp=arr[:2,:3]\n",
    "print(\"\\nArray with first 2 rows and 3 columns:arr[:2,:3]:\\n\",temp)"
   ]
  },
  {
   "cell_type": "code",
   "execution_count": 39,
   "id": "12c47c27",
   "metadata": {},
   "outputs": [
    {
     "name": "stdout",
     "output_type": "stream",
     "text": [
      "\n",
      "Elements at indicies (0,3),(1,2),(2,1)(3,0):\n",
      " [4. 6. 0. 3.]\n"
     ]
    }
   ],
   "source": [
    "import numpy as np\n",
    "arr=np.array([[-1,2,0,4],[4,-0.5,6,0],[2.6,0,7,8],[3,-7,4,2.0]]) \n",
    "temp=arr[[0,1,2,3],[3,2,1,0]]\n",
    "print(\"\\nElements at indicies (0,3),(1,2),(2,1)(3,0):\\n\",temp)"
   ]
  },
  {
   "cell_type": "code",
   "execution_count": 40,
   "id": "2eaff7b8",
   "metadata": {},
   "outputs": [
    {
     "name": "stdout",
     "output_type": "stream",
     "text": [
      "\n",
      "Elements greater than 2:\n",
      " [4.  4.  6.  2.6 7.  8.  3.  4. ]\n"
     ]
    }
   ],
   "source": [
    "import numpy as np\n",
    "cond=arr>2\n",
    "temp=arr[cond]\n",
    "print(\"\\nElements greater than 2:\\n\",temp)"
   ]
  },
  {
   "cell_type": "code",
   "execution_count": 38,
   "id": "dd200cc6",
   "metadata": {},
   "outputs": [
    {
     "name": "stdout",
     "output_type": "stream",
     "text": [
      "\n",
      "Original array: [1 2 3 4 5 6 7]\n",
      "\n",
      "Returns every other elements in the array:arr:[::2]: [1 3 5 7]\n"
     ]
    }
   ],
   "source": [
    "import numpy as np\n",
    "arr=np.array([1,2,3,4,5,6,7])\n",
    "print(\"\\nOriginal array:\",arr)\n",
    "print(\"\\nReturns every other elements in the array:arr:[::2]:\",arr[::2])"
   ]
  },
  {
   "cell_type": "code",
   "execution_count": 23,
   "id": "0870cd99",
   "metadata": {},
   "outputs": [
    {
     "name": "stdout",
     "output_type": "stream",
     "text": [
      "\n",
      "Original arrays:\n",
      " [1 2 3] [4 5 6]\n",
      "\n",
      "Joined array:\n",
      " [1 2 3 4 5 6]\n"
     ]
    }
   ],
   "source": [
    "arr1=np.array([1,2,3])\n",
    "arr2=np.array([4,5,6])\n",
    "arr=np.concatenate((arr1,arr2))\n",
    "print(\"\\nOriginal arrays:\\n\",arr1,arr2)\n",
    "print(\"\\nJoined array:\\n\",arr)"
   ]
  },
  {
   "cell_type": "code",
   "execution_count": 24,
   "id": "b87bc62f",
   "metadata": {},
   "outputs": [
    {
     "name": "stdout",
     "output_type": "stream",
     "text": [
      "\n",
      "Horizontal joining:\n",
      " [1 2 3 4 5 6]\n"
     ]
    }
   ],
   "source": [
    "import numpy as np\n",
    "arr=np.hstack((arr1,arr2))\n",
    "print(\"\\nHorizontal joining:\\n\",arr)"
   ]
  },
  {
   "cell_type": "code",
   "execution_count": 25,
   "id": "74daf3d8",
   "metadata": {},
   "outputs": [
    {
     "name": "stdout",
     "output_type": "stream",
     "text": [
      "\n",
      "Vertical joining:\n",
      " [[1 2 3]\n",
      " [4 5 6]]\n"
     ]
    }
   ],
   "source": [
    "import numpy as np\n",
    "arr=np.vstack((arr1,arr2))\n",
    "print(\"\\nVertical joining:\\n\",arr)"
   ]
  },
  {
   "cell_type": "code",
   "execution_count": 26,
   "id": "975bf16e",
   "metadata": {},
   "outputs": [
    {
     "name": "stdout",
     "output_type": "stream",
     "text": [
      "\n",
      "Depth joining:\n",
      " [[[1 4]\n",
      "  [2 5]\n",
      "  [3 6]]]\n"
     ]
    }
   ],
   "source": [
    "import numpy as np\n",
    "arr=np.dstack((arr1,arr2))\n",
    "print(\"\\nDepth joining:\\n\",arr)"
   ]
  },
  {
   "cell_type": "code",
   "execution_count": 27,
   "id": "8ea40ee5",
   "metadata": {},
   "outputs": [
    {
     "name": "stdout",
     "output_type": "stream",
     "text": [
      "\n",
      "Original array:\n",
      " [1 2 3 4 5 6]\n",
      "\n",
      "Splitted array:\n",
      " [array([1, 2]), array([3, 4]), array([5, 6])]\n"
     ]
    }
   ],
   "source": [
    "import numpy as np\n",
    "arr=np.array([1,2,3,4,5,6])\n",
    "newarr=np.array_split(arr,3)\n",
    "print(\"\\nOriginal array:\\n\",arr)\n",
    "print(\"\\nSplitted array:\\n\",newarr)"
   ]
  },
  {
   "cell_type": "code",
   "execution_count": 28,
   "id": "cba69ead",
   "metadata": {},
   "outputs": [
    {
     "name": "stdout",
     "output_type": "stream",
     "text": [
      "\n",
      "Splitted array in another ofrm:\n",
      "\n",
      "[1 2]\n",
      "[3 4]\n",
      "[5 6]\n"
     ]
    }
   ],
   "source": [
    "import numpy as np\n",
    "arr=np.array([1,2,3,4,5,6])\n",
    "newarr=np.array_split(arr,3)\n",
    "print(\"\\nSplitted array in another ofrm:\\n\")\n",
    "print(newarr[0])\n",
    "print(newarr[1])\n",
    "print(newarr[2])"
   ]
  },
  {
   "cell_type": "code",
   "execution_count": 1,
   "id": "8727738b",
   "metadata": {},
   "outputs": [
    {
     "name": "stdout",
     "output_type": "stream",
     "text": [
      "original array: [1 2 3 4 5 4 4]\n",
      "\n",
      "indexes where the value is 4: (array([3, 5, 6], dtype=int64),)\n"
     ]
    }
   ],
   "source": [
    "import numpy as np\n",
    "arr=np.array([1,2,3,4,5,4,4])\n",
    "print(\"original array:\",arr)\n",
    "x=np.where(arr==4)\n",
    "print(\"\\nindexes where the value is 4:\",x)"
   ]
  },
  {
   "cell_type": "code",
   "execution_count": 2,
   "id": "e4ab5797",
   "metadata": {},
   "outputs": [
    {
     "name": "stdout",
     "output_type": "stream",
     "text": [
      "\n",
      "original array: [1 2 3 4 5 6 7 8]\n",
      "\n",
      "indexes where the values are even: (array([1, 3, 5, 7], dtype=int64),)\n"
     ]
    }
   ],
   "source": [
    "import numpy as np\n",
    "arr=np.array([1,2,3,4,5,6,7,8])\n",
    "x=np.where(arr%2==0)\n",
    "print(\"\\noriginal array:\",arr)\n",
    "print(\"\\nindexes where the values are even:\",x)"
   ]
  },
  {
   "cell_type": "code",
   "execution_count": 3,
   "id": "2e64cc61",
   "metadata": {},
   "outputs": [
    {
     "name": "stdout",
     "output_type": "stream",
     "text": [
      "\n",
      "indexes where the value 3 should be inserted, starting from the right: 2\n"
     ]
    }
   ],
   "source": [
    "import numpy as np\n",
    "x=np.searchsorted(arr,3,side='left')\n",
    "print(\"\\nindexes where the value 3 should be inserted, starting from the right:\",x)"
   ]
  },
  {
   "cell_type": "code",
   "execution_count": 4,
   "id": "fd0b620d",
   "metadata": {},
   "outputs": [
    {
     "name": "stdout",
     "output_type": "stream",
     "text": [
      "\n",
      "original array: [3 2 0 1]\n",
      "\n",
      "sorted array: [0 1 2 3]\n"
     ]
    }
   ],
   "source": [
    "import numpy as np\n",
    "arr=np.array([3,2,0,1])\n",
    "print(\"\\noriginal array:\",arr)\n",
    "print(\"\\nsorted array:\",np.sort(arr))"
   ]
  },
  {
   "cell_type": "code",
   "execution_count": 5,
   "id": "f3988f27",
   "metadata": {},
   "outputs": [
    {
     "name": "stdout",
     "output_type": "stream",
     "text": [
      "\n",
      "Original array: [[3 2 4]\n",
      " [5 0 1]]\n",
      "\n",
      "Sorted array: [[2 3 4]\n",
      " [0 1 5]]\n"
     ]
    }
   ],
   "source": [
    "arr = np.array([[3, 2, 4], [5, 0, 1]])\n",
    "print(\"\\nOriginal array:\",arr)\n",
    "print(\"\\nSorted array:\",np.sort(arr))"
   ]
  },
  {
   "cell_type": "code",
   "execution_count": 6,
   "id": "6f05718c",
   "metadata": {},
   "outputs": [
    {
     "name": "stdout",
     "output_type": "stream",
     "text": [
      "\n",
      "Original array: [41 42 43 44]\n",
      "\n",
      "Filter index: [True, False, True, False]\n",
      "\n",
      "Filter array: [41 43]\n"
     ]
    }
   ],
   "source": [
    "arr = np.array([41, 42, 43, 44])\n",
    "x = [True, False, True, False]\n",
    "newarr = arr[x]\n",
    "print(\"\\nOriginal array:\",arr)\n",
    "print(\"\\nFilter index:\",x)\n",
    "print(\"\\nFilter array:\",newarr)"
   ]
  },
  {
   "cell_type": "code",
   "execution_count": 7,
   "id": "b61dff49",
   "metadata": {},
   "outputs": [
    {
     "name": "stdout",
     "output_type": "stream",
     "text": [
      "\n",
      "Original array: [41 42 43 44]\n",
      "\n",
      "Filter array:condition- >42: [False False  True  True]\n",
      "\n",
      "New array: [43 44]\n"
     ]
    }
   ],
   "source": [
    "arr = np.array([41, 42, 43, 44])\n",
    "filter_arr = arr > 42\n",
    "newarr = arr[filter_arr]\n",
    "print(\"\\nOriginal array:\",arr)\n",
    "print(\"\\nFilter array:condition- >42:\",filter_arr)\n",
    "print(\"\\nNew array:\",newarr)"
   ]
  },
  {
   "cell_type": "code",
   "execution_count": 9,
   "id": "531ab2eb",
   "metadata": {},
   "outputs": [
    {
     "name": "stdout",
     "output_type": "stream",
     "text": [
      "Original arrays\n",
      "[10 20 30 40 50]\n",
      "[ 2  4  5  8 10]\n",
      "\n",
      "Vector addition\n",
      "[12 24 35 48 60]\n"
     ]
    }
   ],
   "source": [
    "arr1=[10,20,30,40,50] \n",
    "arr2=[2,4,5,8,10]\n",
    "a=np.array(arr1)\n",
    "b=np.array(arr2)\n",
    "print(\"Original arrays\")\n",
    "print(a) \n",
    "print(b)\n",
    "\n",
    "print(\"\\nVector addition\")\n",
    "print(a+b)"
   ]
  },
  {
   "cell_type": "code",
   "execution_count": 10,
   "id": "dd66cf67",
   "metadata": {},
   "outputs": [
    {
     "name": "stdout",
     "output_type": "stream",
     "text": [
      "Original arrays\n",
      "[10 20 30 40 50]\n",
      "[ 2  4  5  8 10]\n",
      "\n",
      "Vector subtraction\n",
      "[ 8 16 25 32 40]\n"
     ]
    }
   ],
   "source": [
    "arr1=[10,20,30,40,50] \n",
    "arr2=[2,4,5,8,10]\n",
    "a=np.array(arr1)\n",
    "b=np.array(arr2)\n",
    "print(\"Original arrays\")\n",
    "print(a) \n",
    "print(b)\n",
    "print(\"\\nVector subtraction\")\n",
    "print(a-b)"
   ]
  },
  {
   "cell_type": "code",
   "execution_count": 11,
   "id": "6b3ba9ce",
   "metadata": {},
   "outputs": [
    {
     "name": "stdout",
     "output_type": "stream",
     "text": [
      "\n",
      "Vector multiplication\n",
      "[ 20  80 150 320 500]\n"
     ]
    }
   ],
   "source": [
    "print(\"\\nVector multiplication\")\n",
    "print(a*b)"
   ]
  },
  {
   "cell_type": "code",
   "execution_count": 12,
   "id": "1d039b03",
   "metadata": {},
   "outputs": [
    {
     "name": "stdout",
     "output_type": "stream",
     "text": [
      "\n",
      "Vector division\n",
      "[5. 5. 6. 5. 5.]\n"
     ]
    }
   ],
   "source": [
    "print(\"\\nVector division\")\n",
    "print(a/b)"
   ]
  },
  {
   "cell_type": "code",
   "execution_count": 13,
   "id": "3befd679",
   "metadata": {},
   "outputs": [
    {
     "name": "stdout",
     "output_type": "stream",
     "text": [
      "\n",
      "Vector Dot product\n",
      "1070\n"
     ]
    }
   ],
   "source": [
    "print(\"\\nVector Dot product\")\n",
    "print(a.dot(b))"
   ]
  },
  {
   "cell_type": "code",
   "execution_count": 14,
   "id": "75b4acc5",
   "metadata": {},
   "outputs": [
    {
     "name": "stdout",
     "output_type": "stream",
     "text": [
      "\n",
      "Scalar multiplication\n",
      " scalar value= 5\n",
      " array= [10 20 30 40 50]\n",
      " result= [ 50 100 150 200 250]\n"
     ]
    }
   ],
   "source": [
    "print(\"\\nScalar multiplication\")\n",
    "sclr=5\n",
    "print(\" scalar value=\",sclr)\n",
    "print(\" array=\",a)\n",
    "print(\" result=\",a*sclr)"
   ]
  },
  {
   "cell_type": "code",
   "execution_count": null,
   "id": "780e3f8d",
   "metadata": {},
   "outputs": [],
   "source": []
  }
 ],
 "metadata": {
  "kernelspec": {
   "display_name": "Python 3 (ipykernel)",
   "language": "python",
   "name": "python3"
  },
  "language_info": {
   "codemirror_mode": {
    "name": "ipython",
    "version": 3
   },
   "file_extension": ".py",
   "mimetype": "text/x-python",
   "name": "python",
   "nbconvert_exporter": "python",
   "pygments_lexer": "ipython3",
   "version": "3.9.12"
  }
 },
 "nbformat": 4,
 "nbformat_minor": 5
}
