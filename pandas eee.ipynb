{
 "cells": [
  {
   "cell_type": "code",
   "execution_count": 1,
   "id": "f46db292",
   "metadata": {},
   "outputs": [
    {
     "name": "stdout",
     "output_type": "stream",
     "text": [
      "Series from array:\n",
      "0    P\n",
      "1    a\n",
      "2    n\n",
      "3    d\n",
      "4    a\n",
      "5    s\n",
      "dtype: object\n"
     ]
    }
   ],
   "source": [
    "import pandas as pd\n",
    "import numpy as np\n",
    "arr = np.array(['P','a','n','d','a','s'])\n",
    "a = pd.Series(arr)\n",
    "print(\"Series from array:\")\n",
    "print(a)"
   ]
  },
  {
   "cell_type": "code",
   "execution_count": 2,
   "id": "c55653d7",
   "metadata": {},
   "outputs": [
    {
     "name": "stdout",
     "output_type": "stream",
     "text": [
      "\n",
      "\n",
      "Series from dictionary:\n",
      "\n",
      "x    0.0\n",
      "y    1.0\n",
      "z    2.0\n",
      "dtype: float64\n"
     ]
    }
   ],
   "source": [
    "arr = {'x' : 0., 'y' : 1., 'z' : 2.}\n",
    "b = pd.Series(arr)\n",
    "print(\"\\n\\nSeries from dictionary:\\n\")\n",
    "print (b)"
   ]
  },
  {
   "cell_type": "code",
   "execution_count": 3,
   "id": "24624a93",
   "metadata": {},
   "outputs": [
    {
     "name": "stdout",
     "output_type": "stream",
     "text": [
      "\n",
      "Series using scalar\n",
      "\n",
      "0    4\n",
      "1    4\n",
      "2    4\n",
      "3    4\n",
      "dtype: int64\n"
     ]
    }
   ],
   "source": [
    "x = pd.Series(4, index=[0, 1, 2, 3])\n",
    "print(\"\\nSeries using scalar\\n\")\n",
    "print (x)"
   ]
  },
  {
   "cell_type": "code",
   "execution_count": 4,
   "id": "7b2552c1",
   "metadata": {},
   "outputs": [
    {
     "name": "stdout",
     "output_type": "stream",
     "text": [
      "\n",
      "Series through index:\n",
      "a    1\n",
      "b    2\n",
      "c    3\n",
      "dtype: int64\n"
     ]
    }
   ],
   "source": [
    "x = pd.Series([1,2,3],index = ['a','b','c'])\n",
    "print(\"\\nSeries through index:\")\n",
    "print (x)"
   ]
  },
  {
   "cell_type": "code",
   "execution_count": 5,
   "id": "8e2db754",
   "metadata": {},
   "outputs": [
    {
     "name": "stdout",
     "output_type": "stream",
     "text": [
      "\n",
      " a series:\n",
      " 0    1\n",
      "1    2\n",
      "2    3\n",
      "3    4\n",
      "dtype: int64\n"
     ]
    }
   ],
   "source": [
    "a=pd.Series(data=[1,2,3,4])\n",
    "print(\"\\n a series:\\n\",a)"
   ]
  },
  {
   "cell_type": "code",
   "execution_count": 6,
   "id": "26241956",
   "metadata": {},
   "outputs": [
    {
     "name": "stdout",
     "output_type": "stream",
     "text": [
      "\n",
      "Index: \n",
      " RangeIndex(start=0, stop=4, step=1)\n"
     ]
    }
   ],
   "source": [
    "print(\"\\nIndex: \\n\",a.index)"
   ]
  },
  {
   "cell_type": "code",
   "execution_count": 7,
   "id": "7cc9616e",
   "metadata": {},
   "outputs": [
    {
     "name": "stdout",
     "output_type": "stream",
     "text": [
      "\n",
      "Values: \n",
      " [1 2 3 4]\n"
     ]
    }
   ],
   "source": [
    "print(\"\\nValues: \\n\",a.values)"
   ]
  },
  {
   "cell_type": "code",
   "execution_count": 8,
   "id": "d42b0e13",
   "metadata": {},
   "outputs": [
    {
     "name": "stdout",
     "output_type": "stream",
     "text": [
      "\n",
      "Shape:  (4,)\n"
     ]
    }
   ],
   "source": [
    "print(\"\\nShape: \",a.shape)"
   ]
  },
  {
   "cell_type": "code",
   "execution_count": 9,
   "id": "a9cf8194",
   "metadata": {},
   "outputs": [
    {
     "name": "stdout",
     "output_type": "stream",
     "text": [
      "\n",
      "Dimension:  1\n"
     ]
    }
   ],
   "source": [
    "print(\"\\nDimension: \",a.ndim)"
   ]
  },
  {
   "cell_type": "code",
   "execution_count": 10,
   "id": "042ae142",
   "metadata": {},
   "outputs": [
    {
     "name": "stdout",
     "output_type": "stream",
     "text": [
      "\n",
      "Size:  4\n"
     ]
    }
   ],
   "source": [
    "print(\"\\nSize: \",a.size)"
   ]
  },
  {
   "cell_type": "code",
   "execution_count": 11,
   "id": "65e32fa3",
   "metadata": {},
   "outputs": [
    {
     "name": "stdout",
     "output_type": "stream",
     "text": [
      "Empty DataFrame\n",
      "Columns: []\n",
      "Index: []\n"
     ]
    }
   ],
   "source": [
    "df = pd.DataFrame()\n",
    "print (df)"
   ]
  },
  {
   "cell_type": "code",
   "execution_count": 12,
   "id": "1661027b",
   "metadata": {},
   "outputs": [
    {
     "name": "stdout",
     "output_type": "stream",
     "text": [
      "\n",
      "Series to Data frame\n",
      "\n",
      "       Emp   ID\n",
      "0   Parker  102\n",
      "1     John  107\n",
      "2    Smith  109\n",
      "3  William  114\n"
     ]
    }
   ],
   "source": [
    "emp = pd.Series(['Parker', 'John', 'Smith',\n",
    "'William'])\n",
    "id =pd.Series([102, 107, 109, 114])\n",
    "frame = { 'Emp': emp, 'ID': id }\n",
    "result = pd.DataFrame(frame)\n",
    "print(\"\\nSeries to Data frame\\n\")\n",
    "print(result)"
   ]
  },
  {
   "cell_type": "code",
   "execution_count": 13,
   "id": "4fccb7bc",
   "metadata": {},
   "outputs": [
    {
     "name": "stdout",
     "output_type": "stream",
     "text": [
      "\n",
      " Extracting one column :\n",
      "\n",
      "0     Parker\n",
      "1       John\n",
      "2      Smith\n",
      "3    William\n",
      "Name: Emp, dtype: object\n"
     ]
    }
   ],
   "source": [
    "print(\"\\n Extracting one column :\\n\")\n",
    "print(result['Emp'])"
   ]
  },
  {
   "cell_type": "code",
   "execution_count": 14,
   "id": "75e0908d",
   "metadata": {},
   "outputs": [
    {
     "name": "stdout",
     "output_type": "stream",
     "text": [
      "\n",
      "Extracting the third row:\n",
      "\n",
      "Emp    Smith\n",
      "ID       109\n",
      "Name: 2, dtype: object\n"
     ]
    }
   ],
   "source": [
    "print(\"\\nExtracting the third row:\\n\")\n",
    "print(result.loc[2])"
   ]
  },
  {
   "cell_type": "code",
   "execution_count": 15,
   "id": "d390c148",
   "metadata": {},
   "outputs": [
    {
     "name": "stdout",
     "output_type": "stream",
     "text": [
      "\n",
      "Adding new column:\n",
      "\n",
      "       Emp   ID  Age\n",
      "0   Parker  102   35\n",
      "1     John  107   24\n",
      "2    Smith  109   40\n",
      "3  William  114   38\n"
     ]
    }
   ],
   "source": [
    "print(\"\\nAdding new column:\\n\")\n",
    "result['Age']=pd.Series([35,24,40,38])\n",
    "print(result)"
   ]
  },
  {
   "cell_type": "code",
   "execution_count": 24,
   "id": "6c9529d5",
   "metadata": {},
   "outputs": [
    {
     "name": "stdout",
     "output_type": "stream",
     "text": [
      "\n",
      "Adding new row values:\n",
      "        Emp   ID   Age\n",
      "0   Parker  102   NaN\n",
      "1     John  107   NaN\n",
      "2    Smith  109   NaN\n",
      "3  William  114   NaN\n",
      "0     Dale  123  25.0\n",
      "1     Mark  143  30.0\n"
     ]
    },
    {
     "name": "stderr",
     "output_type": "stream",
     "text": [
      "C:\\Users\\Tcs\\AppData\\Local\\Temp\\ipykernel_12084\\3222880518.py:2: FutureWarning: The frame.append method is deprecated and will be removed from pandas in a future version. Use pandas.concat instead.\n",
      "  print(\"\\nAdding new row values:\\n\",result.append(d2))\n"
     ]
    }
   ],
   "source": [
    "d2 = pd.DataFrame([['Dale', 123, 25],['Mark', 143, 30]], columns =['Emp','ID','Age'])\n",
    "print(\"\\nAdding new row values:\\n\",result.append(d2))"
   ]
  },
  {
   "cell_type": "code",
   "execution_count": 17,
   "id": "cf4268d6",
   "metadata": {},
   "outputs": [
    {
     "name": "stdout",
     "output_type": "stream",
     "text": [
      "\n",
      "Deleting one column:\n",
      "\n",
      "       Emp   ID\n",
      "0   Parker  102\n",
      "1     John  107\n",
      "2    Smith  109\n",
      "3  William  114\n"
     ]
    }
   ],
   "source": [
    "print(\"\\nDeleting one column:\\n\")\n",
    "del result['Age']\n",
    "print(result)"
   ]
  },
  {
   "cell_type": "code",
   "execution_count": 25,
   "id": "824b504e",
   "metadata": {},
   "outputs": [
    {
     "name": "stdout",
     "output_type": "stream",
     "text": [
      "\n",
      "Deleting particular row:\n",
      "        Emp   ID\n",
      "0   Parker  102\n",
      "2    Smith  109\n",
      "3  William  114\n"
     ]
    }
   ],
   "source": [
    "print(\"\\nDeleting particular row:\\n\",result.drop(1))"
   ]
  },
  {
   "cell_type": "code",
   "execution_count": 26,
   "id": "ef2415e2",
   "metadata": {},
   "outputs": [
    {
     "name": "stdout",
     "output_type": "stream",
     "text": [
      "DataFrame.apply function:\n",
      "\n",
      "\n",
      "Original DataFrame:\n",
      "    P  Q\n",
      "0  2  7\n",
      "1  2  7\n",
      "2  2  7\n"
     ]
    }
   ],
   "source": [
    "print(\"DataFrame.apply function:\\n\")\n",
    "info = pd.DataFrame([[2, 7]]*3 , columns=['P', 'Q'])\n",
    "print(\"\\nOriginal DataFrame:\\n\",info)"
   ]
  },
  {
   "cell_type": "code",
   "execution_count": 27,
   "id": "6765ba9c",
   "metadata": {},
   "outputs": [
    {
     "name": "stdout",
     "output_type": "stream",
     "text": [
      "\n",
      "Square root of DataFrame:\n",
      "           P         Q\n",
      "0  1.414214  2.645751\n",
      "1  1.414214  2.645751\n",
      "2  1.414214  2.645751\n"
     ]
    }
   ],
   "source": [
    "print(\"\\nSquare root of DataFrame:\\n\",info.apply(np.sqrt))"
   ]
  },
  {
   "cell_type": "code",
   "execution_count": 28,
   "id": "50475dba",
   "metadata": {},
   "outputs": [
    {
     "name": "stdout",
     "output_type": "stream",
     "text": [
      "\n",
      "Sum of each column:\n",
      " P     6\n",
      "Q    21\n",
      "dtype: int64\n"
     ]
    }
   ],
   "source": [
    "print(\"\\nSum of each column:\\n\",info.apply(np.sum, axis=0))"
   ]
  },
  {
   "cell_type": "code",
   "execution_count": 29,
   "id": "c86b35bd",
   "metadata": {},
   "outputs": [
    {
     "name": "stdout",
     "output_type": "stream",
     "text": [
      "\n",
      "Sum of each row:\n",
      " 0    9\n",
      "1    9\n",
      "2    9\n",
      "dtype: int64\n"
     ]
    }
   ],
   "source": [
    "print(\"\\nSum of each row:\\n\",info.apply(np.sum, axis=1))"
   ]
  },
  {
   "cell_type": "code",
   "execution_count": 33,
   "id": "91d7da90",
   "metadata": {},
   "outputs": [
    {
     "name": "stdout",
     "output_type": "stream",
     "text": [
      "\n",
      "Original DataFrame:\n",
      "    X  Y  Z\n",
      "0  1  5  7\n",
      "1  2  7  8\n",
      "2  3  6  9\n",
      "\n",
      "Minimum and Maximum of each column:\n",
      "\n",
      "     X  Y  Z\n",
      "min  1  5  7\n",
      "max  3  7  9\n"
     ]
    }
   ],
   "source": [
    "info=pd.DataFrame([[1,5,7],[2,7,8],[3,6,9]], columns=['X','Y','Z'])\n",
    "print(\"\\nOriginal DataFrame:\\n\",info)\n",
    "print(\"\\nMinimum and Maximum of each column:\\n\")\n",
    "print(info.agg(['min','max']))"
   ]
  },
  {
   "cell_type": "code",
   "execution_count": 34,
   "id": "0c48c074",
   "metadata": {},
   "outputs": [
    {
     "name": "stdout",
     "output_type": "stream",
     "text": [
      "\n",
      "DataFrame.Assign function:\n",
      "\n",
      "\n",
      "Original DataFrame:\n",
      "     Emp   ID\n",
      "0  Dale  123\n",
      "1  Mark  143\n",
      "\n",
      "Adding new column:\n",
      "     Emp   ID  Age\n",
      "0  Dale  123   35\n",
      "1  Mark  143   40\n",
      "\n",
      "Adding new column:\n",
      "     Emp   ID  Age   Sex\n",
      "0  Dale  123   35  Male\n",
      "1  Mark  143   40  Male\n"
     ]
    }
   ],
   "source": [
    "print(\"\\nDataFrame.Assign function:\\n\")\n",
    "d2 = pd.DataFrame([['Dale', 123], ['Mark', 143]], columns = ['Emp','ID'])\n",
    "print(\"\\nOriginal DataFrame:\\n\",d2)\n",
    "\n",
    "d2['Age']=[35,40]\n",
    "print(\"\\nAdding new column:\\n\",d2)\n",
    "\n",
    "d=d2.assign(Sex=['Male','Male'])\n",
    "print(\"\\nAdding new column:\\n\",d)"
   ]
  },
  {
   "cell_type": "code",
   "execution_count": 5,
   "id": "1fe1ef69",
   "metadata": {},
   "outputs": [
    {
     "name": "stdout",
     "output_type": "stream",
     "text": [
      "\n",
      "DataFrame.Sort function:\n",
      "\n",
      "       col3      col4\n",
      "3 -0.003807 -0.041092\n",
      "2  0.781606  1.432012\n",
      "0  0.026937 -0.622998\n",
      "4 -0.785402 -1.404146\n",
      "1 -0.691955 -1.498722\n"
     ]
    }
   ],
   "source": [
    "import pandas as pd\n",
    "import numpy as np\n",
    "print(\"\\nDataFrame.Sort function:\\n\")\n",
    "info=pd.DataFrame(np.random.randn(5,2),\n",
    "index=[3,2,0,4,1],columns = ['col3','col4'])\n",
    "print(info)"
   ]
  },
  {
   "cell_type": "code",
   "execution_count": 6,
   "id": "4a70db0e",
   "metadata": {},
   "outputs": [
    {
     "name": "stdout",
     "output_type": "stream",
     "text": [
      "\n",
      "sort index:\n",
      "        col3      col4\n",
      "0  0.026937 -0.622998\n",
      "1 -0.691955 -1.498722\n",
      "2  0.781606  1.432012\n",
      "3 -0.003807 -0.041092\n",
      "4 -0.785402 -1.404146\n"
     ]
    }
   ],
   "source": [
    "info2=info.sort_index()\n",
    "print(\"\\nsort index:\\n\",info2)"
   ]
  },
  {
   "cell_type": "code",
   "execution_count": 7,
   "id": "083b77e6",
   "metadata": {},
   "outputs": [
    {
     "name": "stdout",
     "output_type": "stream",
     "text": [
      "\n",
      "sort values:\n",
      "        col3      col4\n",
      "4 -0.785402 -1.404146\n",
      "1 -0.691955 -1.498722\n",
      "3 -0.003807 -0.041092\n",
      "0  0.026937 -0.622998\n",
      "2  0.781606  1.432012\n"
     ]
    }
   ],
   "source": [
    "info3=info.sort_values(by='col3')\n",
    "print(\"\\nsort values:\\n\",info3)"
   ]
  },
  {
   "cell_type": "code",
   "execution_count": 11,
   "id": "b71d5adc",
   "metadata": {},
   "outputs": [
    {
     "name": "stdout",
     "output_type": "stream",
     "text": [
      "\n",
      "dataframe.merge function:\n",
      "\n"
     ]
    }
   ],
   "source": [
    "import pandas as pd\n",
    "import numpy as np\n",
    "print(\"\\ndataframe.merge function:\\n\")\n"
   ]
  },
  {
   "cell_type": "code",
   "execution_count": 14,
   "id": "de209281",
   "metadata": {},
   "outputs": [
    {
     "name": "stdout",
     "output_type": "stream",
     "text": [
      "   id    name   sub\n",
      "0   1    Alex  sub2\n",
      "1   2     Amy  sub4\n",
      "2   3   Allen  sub3\n",
      "3   4   Alice  sub6\n",
      "4   5  Ayoung  sub5\n"
     ]
    }
   ],
   "source": [
    "left=pd.DataFrame({'id':[1,2,3,4,5],\n",
    "    'name':['Alex','Amy','Allen','Alice','Ayoung'],\n",
    "    'sub':['sub2','sub4','sub3','sub6','sub5']})\n",
    "print(left)"
   ]
  },
  {
   "cell_type": "code",
   "execution_count": 17,
   "id": "37473182",
   "metadata": {},
   "outputs": [
    {
     "name": "stdout",
     "output_type": "stream",
     "text": [
      "   id   name   sub\n",
      "0   1  Billy  sub2\n",
      "1   2  Brian  sub4\n",
      "2   3   Bran  sub3\n",
      "3   4  Bryce  sub6\n",
      "4   5  Betty  sub5\n"
     ]
    }
   ],
   "source": [
    "right=pd.DataFrame({'id':[1,2,3,4,5],\n",
    "    'name':['Billy','Brian','Bran','Bryce','Betty'],\n",
    "    'sub':['sub2','sub4','sub3','sub6','sub5']})\n",
    "print(right)"
   ]
  },
  {
   "cell_type": "code",
   "execution_count": 18,
   "id": "0aa7a308",
   "metadata": {},
   "outputs": [
    {
     "name": "stdout",
     "output_type": "stream",
     "text": [
      "   id  name_x sub_x name_y sub_y\n",
      "0   1    Alex  sub2  Billy  sub2\n",
      "1   2     Amy  sub4  Brian  sub4\n",
      "2   3   Allen  sub3   Bran  sub3\n",
      "3   4   Alice  sub6  Bryce  sub6\n",
      "4   5  Ayoung  sub5  Betty  sub5\n"
     ]
    }
   ],
   "source": [
    "print(pd.merge(left,right,on='id'))"
   ]
  },
  {
   "cell_type": "code",
   "execution_count": null,
   "id": "e5bb3db5",
   "metadata": {},
   "outputs": [],
   "source": [
    "00"
   ]
  }
 ],
 "metadata": {
  "kernelspec": {
   "display_name": "Python 3 (ipykernel)",
   "language": "python",
   "name": "python3"
  },
  "language_info": {
   "codemirror_mode": {
    "name": "ipython",
    "version": 3
   },
   "file_extension": ".py",
   "mimetype": "text/x-python",
   "name": "python",
   "nbconvert_exporter": "python",
   "pygments_lexer": "ipython3",
   "version": "3.9.12"
  }
 },
 "nbformat": 4,
 "nbformat_minor": 5
}
